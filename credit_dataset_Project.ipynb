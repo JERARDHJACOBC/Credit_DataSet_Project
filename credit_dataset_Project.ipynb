{
  "nbformat": 4,
  "nbformat_minor": 0,
  "metadata": {
    "colab": {
      "provenance": []
    },
    "kernelspec": {
      "name": "python3",
      "display_name": "Python 3"
    },
    "language_info": {
      "name": "python"
    }
  },
  "cells": [
    {
      "cell_type": "markdown",
      "source": [
        "**Credit-card-Fraud Detection-Imbalanced-Dataset**"
      ],
      "metadata": {
        "id": "LhX08b23fJ6f"
      }
    },
    {
      "cell_type": "code",
      "execution_count": 1,
      "metadata": {
        "id": "FPoZyzAQCPcW"
      },
      "outputs": [],
      "source": [
        "import pandas as pd\n",
        "from sklearn.preprocessing import LabelEncoder\n",
        "from sklearn.preprocessing import MinMaxScaler\n",
        "from sklearn.model_selection import train_test_split\n",
        "from sklearn.tree import DecisionTreeClassifier\n",
        "from sklearn.neighbors import KNeighborsClassifier\n",
        "from sklearn.naive_bayes import GaussianNB\n",
        "from sklearn.svm import SVC\n",
        "from sklearn.metrics import classification_report,ConfusionMatrixDisplay\n",
        "import warnings\n",
        "warnings.filterwarnings(\"ignore\")"
      ]
    },
    {
      "cell_type": "code",
      "source": [
        "df=pd.read_csv('/content/drive/MyDrive/Data_Science_wrk & Project/credit_dataset.csv')\n",
        "df"
      ],
      "metadata": {
        "colab": {
          "base_uri": "https://localhost:8080/",
          "height": 817
        },
        "id": "pdM4qzh3Da6F",
        "outputId": "ee625e69-6fdd-448c-f264-60044c54b9da"
      },
      "execution_count": 2,
      "outputs": [
        {
          "output_type": "execute_result",
          "data": {
            "text/plain": [
              "       Unnamed: 0       ID GENDER CAR REALITY  NO_OF_CHILD    INCOME  \\\n",
              "0               0  5008806      M   Y       Y            0  112500.0   \n",
              "1               1  5008808      F   N       Y            0  270000.0   \n",
              "2               2  5008809      F   N       Y            0  270000.0   \n",
              "3               3  5008810      F   N       Y            0  270000.0   \n",
              "4               4  5008811      F   N       Y            0  270000.0   \n",
              "...           ...      ...    ...  ..     ...          ...       ...   \n",
              "25129       25129  5149828      M   Y       Y            0  315000.0   \n",
              "25130       25130  5149834      F   N       Y            0  157500.0   \n",
              "25131       25131  5149838      F   N       Y            0  157500.0   \n",
              "25132       25132  5150049      F   N       Y            0  283500.0   \n",
              "25133       25133  5150337      M   N       Y            0  112500.0   \n",
              "\n",
              "                INCOME_TYPE                 EDUCATION_TYPE  \\\n",
              "0                   Working  Secondary / secondary special   \n",
              "1      Commercial associate  Secondary / secondary special   \n",
              "2      Commercial associate  Secondary / secondary special   \n",
              "3      Commercial associate  Secondary / secondary special   \n",
              "4      Commercial associate  Secondary / secondary special   \n",
              "...                     ...                            ...   \n",
              "25129               Working  Secondary / secondary special   \n",
              "25130  Commercial associate               Higher education   \n",
              "25131             Pensioner               Higher education   \n",
              "25132               Working  Secondary / secondary special   \n",
              "25133               Working  Secondary / secondary special   \n",
              "\n",
              "                FAMILY_TYPE         HOUSE_TYPE  FLAG_MOBIL  WORK_PHONE  PHONE  \\\n",
              "0                   Married  House / apartment           1           0      0   \n",
              "1      Single / not married  House / apartment           1           0      1   \n",
              "2      Single / not married  House / apartment           1           0      1   \n",
              "3      Single / not married  House / apartment           1           0      1   \n",
              "4      Single / not married  House / apartment           1           0      1   \n",
              "...                     ...                ...         ...         ...    ...   \n",
              "25129               Married  House / apartment           1           0      0   \n",
              "25130               Married  House / apartment           1           0      1   \n",
              "25131               Married  House / apartment           1           0      1   \n",
              "25132               Married  House / apartment           1           0      0   \n",
              "25133  Single / not married   Rented apartment           1           0      0   \n",
              "\n",
              "       E_MAIL  FAMILY SIZE  BEGIN_MONTH  AGE  YEARS_EMPLOYED  TARGET  \n",
              "0           0          2.0           29   59               3       0  \n",
              "1           1          1.0            4   52               8       0  \n",
              "2           1          1.0           26   52               8       0  \n",
              "3           1          1.0           26   52               8       0  \n",
              "4           1          1.0           38   52               8       0  \n",
              "...       ...          ...          ...  ...             ...     ...  \n",
              "25129       0          2.0           11   48               7       1  \n",
              "25130       1          2.0           23   34               4       1  \n",
              "25131       1          2.0           32   34               4       1  \n",
              "25132       0          2.0            9   49               2       1  \n",
              "25133       0          1.0           13   25               3       1  \n",
              "\n",
              "[25134 rows x 20 columns]"
            ],
            "text/html": [
              "\n",
              "  <div id=\"df-c0279a60-fd43-41cd-bd3b-83316eeec150\">\n",
              "    <div class=\"colab-df-container\">\n",
              "      <div>\n",
              "<style scoped>\n",
              "    .dataframe tbody tr th:only-of-type {\n",
              "        vertical-align: middle;\n",
              "    }\n",
              "\n",
              "    .dataframe tbody tr th {\n",
              "        vertical-align: top;\n",
              "    }\n",
              "\n",
              "    .dataframe thead th {\n",
              "        text-align: right;\n",
              "    }\n",
              "</style>\n",
              "<table border=\"1\" class=\"dataframe\">\n",
              "  <thead>\n",
              "    <tr style=\"text-align: right;\">\n",
              "      <th></th>\n",
              "      <th>Unnamed: 0</th>\n",
              "      <th>ID</th>\n",
              "      <th>GENDER</th>\n",
              "      <th>CAR</th>\n",
              "      <th>REALITY</th>\n",
              "      <th>NO_OF_CHILD</th>\n",
              "      <th>INCOME</th>\n",
              "      <th>INCOME_TYPE</th>\n",
              "      <th>EDUCATION_TYPE</th>\n",
              "      <th>FAMILY_TYPE</th>\n",
              "      <th>HOUSE_TYPE</th>\n",
              "      <th>FLAG_MOBIL</th>\n",
              "      <th>WORK_PHONE</th>\n",
              "      <th>PHONE</th>\n",
              "      <th>E_MAIL</th>\n",
              "      <th>FAMILY SIZE</th>\n",
              "      <th>BEGIN_MONTH</th>\n",
              "      <th>AGE</th>\n",
              "      <th>YEARS_EMPLOYED</th>\n",
              "      <th>TARGET</th>\n",
              "    </tr>\n",
              "  </thead>\n",
              "  <tbody>\n",
              "    <tr>\n",
              "      <th>0</th>\n",
              "      <td>0</td>\n",
              "      <td>5008806</td>\n",
              "      <td>M</td>\n",
              "      <td>Y</td>\n",
              "      <td>Y</td>\n",
              "      <td>0</td>\n",
              "      <td>112500.0</td>\n",
              "      <td>Working</td>\n",
              "      <td>Secondary / secondary special</td>\n",
              "      <td>Married</td>\n",
              "      <td>House / apartment</td>\n",
              "      <td>1</td>\n",
              "      <td>0</td>\n",
              "      <td>0</td>\n",
              "      <td>0</td>\n",
              "      <td>2.0</td>\n",
              "      <td>29</td>\n",
              "      <td>59</td>\n",
              "      <td>3</td>\n",
              "      <td>0</td>\n",
              "    </tr>\n",
              "    <tr>\n",
              "      <th>1</th>\n",
              "      <td>1</td>\n",
              "      <td>5008808</td>\n",
              "      <td>F</td>\n",
              "      <td>N</td>\n",
              "      <td>Y</td>\n",
              "      <td>0</td>\n",
              "      <td>270000.0</td>\n",
              "      <td>Commercial associate</td>\n",
              "      <td>Secondary / secondary special</td>\n",
              "      <td>Single / not married</td>\n",
              "      <td>House / apartment</td>\n",
              "      <td>1</td>\n",
              "      <td>0</td>\n",
              "      <td>1</td>\n",
              "      <td>1</td>\n",
              "      <td>1.0</td>\n",
              "      <td>4</td>\n",
              "      <td>52</td>\n",
              "      <td>8</td>\n",
              "      <td>0</td>\n",
              "    </tr>\n",
              "    <tr>\n",
              "      <th>2</th>\n",
              "      <td>2</td>\n",
              "      <td>5008809</td>\n",
              "      <td>F</td>\n",
              "      <td>N</td>\n",
              "      <td>Y</td>\n",
              "      <td>0</td>\n",
              "      <td>270000.0</td>\n",
              "      <td>Commercial associate</td>\n",
              "      <td>Secondary / secondary special</td>\n",
              "      <td>Single / not married</td>\n",
              "      <td>House / apartment</td>\n",
              "      <td>1</td>\n",
              "      <td>0</td>\n",
              "      <td>1</td>\n",
              "      <td>1</td>\n",
              "      <td>1.0</td>\n",
              "      <td>26</td>\n",
              "      <td>52</td>\n",
              "      <td>8</td>\n",
              "      <td>0</td>\n",
              "    </tr>\n",
              "    <tr>\n",
              "      <th>3</th>\n",
              "      <td>3</td>\n",
              "      <td>5008810</td>\n",
              "      <td>F</td>\n",
              "      <td>N</td>\n",
              "      <td>Y</td>\n",
              "      <td>0</td>\n",
              "      <td>270000.0</td>\n",
              "      <td>Commercial associate</td>\n",
              "      <td>Secondary / secondary special</td>\n",
              "      <td>Single / not married</td>\n",
              "      <td>House / apartment</td>\n",
              "      <td>1</td>\n",
              "      <td>0</td>\n",
              "      <td>1</td>\n",
              "      <td>1</td>\n",
              "      <td>1.0</td>\n",
              "      <td>26</td>\n",
              "      <td>52</td>\n",
              "      <td>8</td>\n",
              "      <td>0</td>\n",
              "    </tr>\n",
              "    <tr>\n",
              "      <th>4</th>\n",
              "      <td>4</td>\n",
              "      <td>5008811</td>\n",
              "      <td>F</td>\n",
              "      <td>N</td>\n",
              "      <td>Y</td>\n",
              "      <td>0</td>\n",
              "      <td>270000.0</td>\n",
              "      <td>Commercial associate</td>\n",
              "      <td>Secondary / secondary special</td>\n",
              "      <td>Single / not married</td>\n",
              "      <td>House / apartment</td>\n",
              "      <td>1</td>\n",
              "      <td>0</td>\n",
              "      <td>1</td>\n",
              "      <td>1</td>\n",
              "      <td>1.0</td>\n",
              "      <td>38</td>\n",
              "      <td>52</td>\n",
              "      <td>8</td>\n",
              "      <td>0</td>\n",
              "    </tr>\n",
              "    <tr>\n",
              "      <th>...</th>\n",
              "      <td>...</td>\n",
              "      <td>...</td>\n",
              "      <td>...</td>\n",
              "      <td>...</td>\n",
              "      <td>...</td>\n",
              "      <td>...</td>\n",
              "      <td>...</td>\n",
              "      <td>...</td>\n",
              "      <td>...</td>\n",
              "      <td>...</td>\n",
              "      <td>...</td>\n",
              "      <td>...</td>\n",
              "      <td>...</td>\n",
              "      <td>...</td>\n",
              "      <td>...</td>\n",
              "      <td>...</td>\n",
              "      <td>...</td>\n",
              "      <td>...</td>\n",
              "      <td>...</td>\n",
              "      <td>...</td>\n",
              "    </tr>\n",
              "    <tr>\n",
              "      <th>25129</th>\n",
              "      <td>25129</td>\n",
              "      <td>5149828</td>\n",
              "      <td>M</td>\n",
              "      <td>Y</td>\n",
              "      <td>Y</td>\n",
              "      <td>0</td>\n",
              "      <td>315000.0</td>\n",
              "      <td>Working</td>\n",
              "      <td>Secondary / secondary special</td>\n",
              "      <td>Married</td>\n",
              "      <td>House / apartment</td>\n",
              "      <td>1</td>\n",
              "      <td>0</td>\n",
              "      <td>0</td>\n",
              "      <td>0</td>\n",
              "      <td>2.0</td>\n",
              "      <td>11</td>\n",
              "      <td>48</td>\n",
              "      <td>7</td>\n",
              "      <td>1</td>\n",
              "    </tr>\n",
              "    <tr>\n",
              "      <th>25130</th>\n",
              "      <td>25130</td>\n",
              "      <td>5149834</td>\n",
              "      <td>F</td>\n",
              "      <td>N</td>\n",
              "      <td>Y</td>\n",
              "      <td>0</td>\n",
              "      <td>157500.0</td>\n",
              "      <td>Commercial associate</td>\n",
              "      <td>Higher education</td>\n",
              "      <td>Married</td>\n",
              "      <td>House / apartment</td>\n",
              "      <td>1</td>\n",
              "      <td>0</td>\n",
              "      <td>1</td>\n",
              "      <td>1</td>\n",
              "      <td>2.0</td>\n",
              "      <td>23</td>\n",
              "      <td>34</td>\n",
              "      <td>4</td>\n",
              "      <td>1</td>\n",
              "    </tr>\n",
              "    <tr>\n",
              "      <th>25131</th>\n",
              "      <td>25131</td>\n",
              "      <td>5149838</td>\n",
              "      <td>F</td>\n",
              "      <td>N</td>\n",
              "      <td>Y</td>\n",
              "      <td>0</td>\n",
              "      <td>157500.0</td>\n",
              "      <td>Pensioner</td>\n",
              "      <td>Higher education</td>\n",
              "      <td>Married</td>\n",
              "      <td>House / apartment</td>\n",
              "      <td>1</td>\n",
              "      <td>0</td>\n",
              "      <td>1</td>\n",
              "      <td>1</td>\n",
              "      <td>2.0</td>\n",
              "      <td>32</td>\n",
              "      <td>34</td>\n",
              "      <td>4</td>\n",
              "      <td>1</td>\n",
              "    </tr>\n",
              "    <tr>\n",
              "      <th>25132</th>\n",
              "      <td>25132</td>\n",
              "      <td>5150049</td>\n",
              "      <td>F</td>\n",
              "      <td>N</td>\n",
              "      <td>Y</td>\n",
              "      <td>0</td>\n",
              "      <td>283500.0</td>\n",
              "      <td>Working</td>\n",
              "      <td>Secondary / secondary special</td>\n",
              "      <td>Married</td>\n",
              "      <td>House / apartment</td>\n",
              "      <td>1</td>\n",
              "      <td>0</td>\n",
              "      <td>0</td>\n",
              "      <td>0</td>\n",
              "      <td>2.0</td>\n",
              "      <td>9</td>\n",
              "      <td>49</td>\n",
              "      <td>2</td>\n",
              "      <td>1</td>\n",
              "    </tr>\n",
              "    <tr>\n",
              "      <th>25133</th>\n",
              "      <td>25133</td>\n",
              "      <td>5150337</td>\n",
              "      <td>M</td>\n",
              "      <td>N</td>\n",
              "      <td>Y</td>\n",
              "      <td>0</td>\n",
              "      <td>112500.0</td>\n",
              "      <td>Working</td>\n",
              "      <td>Secondary / secondary special</td>\n",
              "      <td>Single / not married</td>\n",
              "      <td>Rented apartment</td>\n",
              "      <td>1</td>\n",
              "      <td>0</td>\n",
              "      <td>0</td>\n",
              "      <td>0</td>\n",
              "      <td>1.0</td>\n",
              "      <td>13</td>\n",
              "      <td>25</td>\n",
              "      <td>3</td>\n",
              "      <td>1</td>\n",
              "    </tr>\n",
              "  </tbody>\n",
              "</table>\n",
              "<p>25134 rows × 20 columns</p>\n",
              "</div>\n",
              "      <button class=\"colab-df-convert\" onclick=\"convertToInteractive('df-c0279a60-fd43-41cd-bd3b-83316eeec150')\"\n",
              "              title=\"Convert this dataframe to an interactive table.\"\n",
              "              style=\"display:none;\">\n",
              "        \n",
              "  <svg xmlns=\"http://www.w3.org/2000/svg\" height=\"24px\"viewBox=\"0 0 24 24\"\n",
              "       width=\"24px\">\n",
              "    <path d=\"M0 0h24v24H0V0z\" fill=\"none\"/>\n",
              "    <path d=\"M18.56 5.44l.94 2.06.94-2.06 2.06-.94-2.06-.94-.94-2.06-.94 2.06-2.06.94zm-11 1L8.5 8.5l.94-2.06 2.06-.94-2.06-.94L8.5 2.5l-.94 2.06-2.06.94zm10 10l.94 2.06.94-2.06 2.06-.94-2.06-.94-.94-2.06-.94 2.06-2.06.94z\"/><path d=\"M17.41 7.96l-1.37-1.37c-.4-.4-.92-.59-1.43-.59-.52 0-1.04.2-1.43.59L10.3 9.45l-7.72 7.72c-.78.78-.78 2.05 0 2.83L4 21.41c.39.39.9.59 1.41.59.51 0 1.02-.2 1.41-.59l7.78-7.78 2.81-2.81c.8-.78.8-2.07 0-2.86zM5.41 20L4 18.59l7.72-7.72 1.47 1.35L5.41 20z\"/>\n",
              "  </svg>\n",
              "      </button>\n",
              "      \n",
              "  <style>\n",
              "    .colab-df-container {\n",
              "      display:flex;\n",
              "      flex-wrap:wrap;\n",
              "      gap: 12px;\n",
              "    }\n",
              "\n",
              "    .colab-df-convert {\n",
              "      background-color: #E8F0FE;\n",
              "      border: none;\n",
              "      border-radius: 50%;\n",
              "      cursor: pointer;\n",
              "      display: none;\n",
              "      fill: #1967D2;\n",
              "      height: 32px;\n",
              "      padding: 0 0 0 0;\n",
              "      width: 32px;\n",
              "    }\n",
              "\n",
              "    .colab-df-convert:hover {\n",
              "      background-color: #E2EBFA;\n",
              "      box-shadow: 0px 1px 2px rgba(60, 64, 67, 0.3), 0px 1px 3px 1px rgba(60, 64, 67, 0.15);\n",
              "      fill: #174EA6;\n",
              "    }\n",
              "\n",
              "    [theme=dark] .colab-df-convert {\n",
              "      background-color: #3B4455;\n",
              "      fill: #D2E3FC;\n",
              "    }\n",
              "\n",
              "    [theme=dark] .colab-df-convert:hover {\n",
              "      background-color: #434B5C;\n",
              "      box-shadow: 0px 1px 3px 1px rgba(0, 0, 0, 0.15);\n",
              "      filter: drop-shadow(0px 1px 2px rgba(0, 0, 0, 0.3));\n",
              "      fill: #FFFFFF;\n",
              "    }\n",
              "  </style>\n",
              "\n",
              "      <script>\n",
              "        const buttonEl =\n",
              "          document.querySelector('#df-c0279a60-fd43-41cd-bd3b-83316eeec150 button.colab-df-convert');\n",
              "        buttonEl.style.display =\n",
              "          google.colab.kernel.accessAllowed ? 'block' : 'none';\n",
              "\n",
              "        async function convertToInteractive(key) {\n",
              "          const element = document.querySelector('#df-c0279a60-fd43-41cd-bd3b-83316eeec150');\n",
              "          const dataTable =\n",
              "            await google.colab.kernel.invokeFunction('convertToInteractive',\n",
              "                                                     [key], {});\n",
              "          if (!dataTable) return;\n",
              "\n",
              "          const docLinkHtml = 'Like what you see? Visit the ' +\n",
              "            '<a target=\"_blank\" href=https://colab.research.google.com/notebooks/data_table.ipynb>data table notebook</a>'\n",
              "            + ' to learn more about interactive tables.';\n",
              "          element.innerHTML = '';\n",
              "          dataTable['output_type'] = 'display_data';\n",
              "          await google.colab.output.renderOutput(dataTable, element);\n",
              "          const docLink = document.createElement('div');\n",
              "          docLink.innerHTML = docLinkHtml;\n",
              "          element.appendChild(docLink);\n",
              "        }\n",
              "      </script>\n",
              "    </div>\n",
              "  </div>\n",
              "  "
            ]
          },
          "metadata": {},
          "execution_count": 2
        }
      ]
    },
    {
      "cell_type": "code",
      "source": [
        "df.dtypes"
      ],
      "metadata": {
        "colab": {
          "base_uri": "https://localhost:8080/"
        },
        "id": "J2ctXkqQEFb4",
        "outputId": "1568bae1-efe7-418f-fb37-c36daadddfd0"
      },
      "execution_count": 3,
      "outputs": [
        {
          "output_type": "execute_result",
          "data": {
            "text/plain": [
              "Unnamed: 0          int64\n",
              "ID                  int64\n",
              "GENDER             object\n",
              "CAR                object\n",
              "REALITY            object\n",
              "NO_OF_CHILD         int64\n",
              "INCOME            float64\n",
              "INCOME_TYPE        object\n",
              "EDUCATION_TYPE     object\n",
              "FAMILY_TYPE        object\n",
              "HOUSE_TYPE         object\n",
              "FLAG_MOBIL          int64\n",
              "WORK_PHONE          int64\n",
              "PHONE               int64\n",
              "E_MAIL              int64\n",
              "FAMILY SIZE       float64\n",
              "BEGIN_MONTH         int64\n",
              "AGE                 int64\n",
              "YEARS_EMPLOYED      int64\n",
              "TARGET              int64\n",
              "dtype: object"
            ]
          },
          "metadata": {},
          "execution_count": 3
        }
      ]
    },
    {
      "cell_type": "code",
      "source": [
        "df.isna().sum()"
      ],
      "metadata": {
        "colab": {
          "base_uri": "https://localhost:8080/"
        },
        "id": "NUpXWI2BENdV",
        "outputId": "56fe6b0b-6c2d-4cfd-e281-39e47b92aeec"
      },
      "execution_count": 4,
      "outputs": [
        {
          "output_type": "execute_result",
          "data": {
            "text/plain": [
              "Unnamed: 0        0\n",
              "ID                0\n",
              "GENDER            0\n",
              "CAR               0\n",
              "REALITY           0\n",
              "NO_OF_CHILD       0\n",
              "INCOME            0\n",
              "INCOME_TYPE       0\n",
              "EDUCATION_TYPE    0\n",
              "FAMILY_TYPE       0\n",
              "HOUSE_TYPE        0\n",
              "FLAG_MOBIL        0\n",
              "WORK_PHONE        0\n",
              "PHONE             0\n",
              "E_MAIL            0\n",
              "FAMILY SIZE       0\n",
              "BEGIN_MONTH       0\n",
              "AGE               0\n",
              "YEARS_EMPLOYED    0\n",
              "TARGET            0\n",
              "dtype: int64"
            ]
          },
          "metadata": {},
          "execution_count": 4
        }
      ]
    },
    {
      "cell_type": "code",
      "source": [
        "label=LabelEncoder()\n",
        "lst=['GENDER','CAR','REALITY','INCOME_TYPE','HOUSE_TYPE','EDUCATION_TYPE','FAMILY_TYPE']\n",
        "for i in lst:\n",
        "    df[i]=label.fit_transform(df[i])"
      ],
      "metadata": {
        "id": "ECKFHgDLM9mu"
      },
      "execution_count": 5,
      "outputs": []
    },
    {
      "cell_type": "code",
      "source": [
        "df['HOUSE_TYPE'].value_counts()"
      ],
      "metadata": {
        "id": "ScRtbWz9OSME",
        "colab": {
          "base_uri": "https://localhost:8080/"
        },
        "outputId": "93150e91-f062-40c1-a53a-d54a8053be62"
      },
      "execution_count": 6,
      "outputs": [
        {
          "output_type": "execute_result",
          "data": {
            "text/plain": [
              "1    22102\n",
              "5     1430\n",
              "2      812\n",
              "4      439\n",
              "3      199\n",
              "0      152\n",
              "Name: HOUSE_TYPE, dtype: int64"
            ]
          },
          "metadata": {},
          "execution_count": 6
        }
      ]
    },
    {
      "cell_type": "code",
      "source": [
        "X=df.iloc[:,2:-1]\n",
        "y=df.iloc[:,-1]\n"
      ],
      "metadata": {
        "id": "ajUyQFX_WBLR"
      },
      "execution_count": 7,
      "outputs": []
    },
    {
      "cell_type": "code",
      "source": [
        "X_train,X_test,y_train,y_test=train_test_split(X,y,random_state=1,test_size=0.3)"
      ],
      "metadata": {
        "id": "R9hYSrdhXLkV"
      },
      "execution_count": 8,
      "outputs": []
    },
    {
      "cell_type": "code",
      "source": [
        "X_train.shape"
      ],
      "metadata": {
        "id": "Ot3-atGPXk5-",
        "colab": {
          "base_uri": "https://localhost:8080/"
        },
        "outputId": "70fb90ef-0d44-49c7-8fb7-4b0d876e69b6"
      },
      "execution_count": 9,
      "outputs": [
        {
          "output_type": "execute_result",
          "data": {
            "text/plain": [
              "(17593, 17)"
            ]
          },
          "metadata": {},
          "execution_count": 9
        }
      ]
    },
    {
      "cell_type": "code",
      "source": [
        "y_train.shape"
      ],
      "metadata": {
        "id": "luUA8O33XoGf",
        "colab": {
          "base_uri": "https://localhost:8080/"
        },
        "outputId": "40688d75-6cd9-45d4-951d-ada8a973ba62"
      },
      "execution_count": 10,
      "outputs": [
        {
          "output_type": "execute_result",
          "data": {
            "text/plain": [
              "(17593,)"
            ]
          },
          "metadata": {},
          "execution_count": 10
        }
      ]
    },
    {
      "cell_type": "code",
      "source": [
        "mms=MinMaxScaler()\n",
        "X_train_mms=mms.fit_transform(X_train)\n",
        "X_test_mms=mms.transform(X_test)"
      ],
      "metadata": {
        "id": "XzJVIHYcMfJM"
      },
      "execution_count": 11,
      "outputs": []
    },
    {
      "cell_type": "markdown",
      "source": [
        "**prediction Before oversampling and undersampling**"
      ],
      "metadata": {
        "id": "xtvCX39Af-YX"
      }
    },
    {
      "cell_type": "code",
      "source": [
        "knn=KNeighborsClassifier(n_neighbors=7)\n",
        "nb=GaussianNB()\n",
        "sv=SVC(degree=5)\n",
        "clf=DecisionTreeClassifier(criterion='entropy')\n",
        "\n",
        "models=[knn,nb,sv,clf]\n",
        "for model in models:\n",
        "    print('*'*20,model,'*'*20)\n",
        "    model.fit(X_train,y_train)\n",
        "    y_pred=model.predict(X_test)\n",
        "    print(classification_report(y_test,y_pred))\n",
        "    print('_'*20)"
      ],
      "metadata": {
        "colab": {
          "base_uri": "https://localhost:8080/"
        },
        "id": "_0x9X_GMX8Fe",
        "outputId": "83322cb1-8c74-4de1-8090-12cef2194f5c"
      },
      "execution_count": 12,
      "outputs": [
        {
          "output_type": "stream",
          "name": "stdout",
          "text": [
            "******************** KNeighborsClassifier(n_neighbors=7) ********************\n",
            "              precision    recall  f1-score   support\n",
            "\n",
            "           0       0.99      1.00      0.99      7427\n",
            "           1       1.00      0.03      0.05       114\n",
            "\n",
            "    accuracy                           0.99      7541\n",
            "   macro avg       0.99      0.51      0.52      7541\n",
            "weighted avg       0.99      0.99      0.98      7541\n",
            "\n",
            "____________________\n",
            "******************** GaussianNB() ********************\n",
            "              precision    recall  f1-score   support\n",
            "\n",
            "           0       0.98      1.00      0.99      7427\n",
            "           1       0.00      0.00      0.00       114\n",
            "\n",
            "    accuracy                           0.98      7541\n",
            "   macro avg       0.49      0.50      0.50      7541\n",
            "weighted avg       0.97      0.98      0.98      7541\n",
            "\n",
            "____________________\n",
            "******************** SVC(degree=5) ********************\n",
            "              precision    recall  f1-score   support\n",
            "\n",
            "           0       0.98      1.00      0.99      7427\n",
            "           1       0.00      0.00      0.00       114\n",
            "\n",
            "    accuracy                           0.98      7541\n",
            "   macro avg       0.49      0.50      0.50      7541\n",
            "weighted avg       0.97      0.98      0.98      7541\n",
            "\n",
            "____________________\n",
            "******************** DecisionTreeClassifier(criterion='entropy') ********************\n",
            "              precision    recall  f1-score   support\n",
            "\n",
            "           0       0.99      0.98      0.98      7427\n",
            "           1       0.17      0.24      0.19       114\n",
            "\n",
            "    accuracy                           0.97      7541\n",
            "   macro avg       0.58      0.61      0.59      7541\n",
            "weighted avg       0.98      0.97      0.97      7541\n",
            "\n",
            "____________________\n"
          ]
        }
      ]
    },
    {
      "cell_type": "code",
      "source": [
        "print(ConfusionMatrixDisplay.from_predictions(y_test,y_pred))"
      ],
      "metadata": {
        "colab": {
          "base_uri": "https://localhost:8080/",
          "height": 466
        },
        "id": "go08YdZRh7b-",
        "outputId": "2da3021f-96f4-49f2-e738-df77972f0ac4"
      },
      "execution_count": 13,
      "outputs": [
        {
          "output_type": "stream",
          "name": "stdout",
          "text": [
            "<sklearn.metrics._plot.confusion_matrix.ConfusionMatrixDisplay object at 0x7f040d26b070>\n"
          ]
        },
        {
          "output_type": "display_data",
          "data": {
            "text/plain": [
              "<Figure size 640x480 with 2 Axes>"
            ],
            "image/png": "[encoded data removed]"
          },
          "metadata": {}
        }
      ]
    },
    {
      "cell_type": "code",
      "source": [
        "y_train.value_counts()"
      ],
      "metadata": {
        "colab": {
          "base_uri": "https://localhost:8080/"
        },
        "id": "PSXg3KBKZOmD",
        "outputId": "7c523544-831b-4584-df61-7cb2937b8882"
      },
      "execution_count": 14,
      "outputs": [
        {
          "output_type": "execute_result",
          "data": {
            "text/plain": [
              "0    17285\n",
              "1      308\n",
              "Name: TARGET, dtype: int64"
            ]
          },
          "metadata": {},
          "execution_count": 14
        }
      ]
    },
    {
      "cell_type": "code",
      "source": [
        "#OVER SAMPLING\n",
        "from imblearn.over_sampling import SMOTEN\n",
        "smn=SMOTEN()\n",
        "X_train_smn,y_train_smn=smn.fit_resample(X_train,y_train)\n"
      ],
      "metadata": {
        "id": "THbHiNQgwGiu"
      },
      "execution_count": 15,
      "outputs": []
    },
    {
      "cell_type": "code",
      "source": [
        "y_train_smn.value_counts()"
      ],
      "metadata": {
        "colab": {
          "base_uri": "https://localhost:8080/"
        },
        "id": "rT96r7wn7t28",
        "outputId": "bacb86b4-64e5-4509-efd0-71ed8d8f448d"
      },
      "execution_count": 16,
      "outputs": [
        {
          "output_type": "execute_result",
          "data": {
            "text/plain": [
              "0    17285\n",
              "1    17285\n",
              "Name: TARGET, dtype: int64"
            ]
          },
          "metadata": {},
          "execution_count": 16
        }
      ]
    },
    {
      "cell_type": "markdown",
      "source": [
        "**Predictions after oversampling using SMOTEN** "
      ],
      "metadata": {
        "id": "BsuMsFccgta7"
      }
    },
    {
      "cell_type": "code",
      "source": [
        "knn=KNeighborsClassifier(n_neighbors=7)\n",
        "nb=GaussianNB()\n",
        "sv=SVC(degree=5)\n",
        "clf=DecisionTreeClassifier(criterion='entropy')\n",
        "\n",
        "models=[knn,nb,sv,clf]\n",
        "for model in models:\n",
        "    print('*'*20,model,'*'*20)\n",
        "    model.fit(X_train_smn,y_train_smn)\n",
        "    y_pred=model.predict(X_test)\n",
        "    print(classification_report(y_test,y_pred))\n",
        "    print('_'*20)"
      ],
      "metadata": {
        "colab": {
          "base_uri": "https://localhost:8080/"
        },
        "id": "EPeil-SM7-v3",
        "outputId": "0376f898-adbb-45eb-8e87-c16c13310955"
      },
      "execution_count": 17,
      "outputs": [
        {
          "output_type": "stream",
          "name": "stdout",
          "text": [
            "******************** KNeighborsClassifier(n_neighbors=7) ********************\n",
            "              precision    recall  f1-score   support\n",
            "\n",
            "           0       0.99      0.96      0.97      7427\n",
            "           1       0.06      0.17      0.09       114\n",
            "\n",
            "    accuracy                           0.95      7541\n",
            "   macro avg       0.52      0.56      0.53      7541\n",
            "weighted avg       0.97      0.95      0.96      7541\n",
            "\n",
            "____________________\n",
            "******************** GaussianNB() ********************\n",
            "              precision    recall  f1-score   support\n",
            "\n",
            "           0       0.99      0.40      0.57      7427\n",
            "           1       0.02      0.72      0.04       114\n",
            "\n",
            "    accuracy                           0.40      7541\n",
            "   macro avg       0.50      0.56      0.30      7541\n",
            "weighted avg       0.97      0.40      0.56      7541\n",
            "\n",
            "____________________\n",
            "******************** SVC(degree=5) ********************\n",
            "              precision    recall  f1-score   support\n",
            "\n",
            "           0       0.98      0.31      0.47      7427\n",
            "           1       0.01      0.65      0.03       114\n",
            "\n",
            "    accuracy                           0.32      7541\n",
            "   macro avg       0.50      0.48      0.25      7541\n",
            "weighted avg       0.97      0.32      0.47      7541\n",
            "\n",
            "____________________\n",
            "******************** DecisionTreeClassifier(criterion='entropy') ********************\n",
            "              precision    recall  f1-score   support\n",
            "\n",
            "           0       0.99      0.98      0.99      7427\n",
            "           1       0.18      0.27      0.22       114\n",
            "\n",
            "    accuracy                           0.97      7541\n",
            "   macro avg       0.59      0.63      0.60      7541\n",
            "weighted avg       0.98      0.97      0.97      7541\n",
            "\n",
            "____________________\n"
          ]
        }
      ]
    },
    {
      "cell_type": "code",
      "source": [
        "print(ConfusionMatrixDisplay.from_predictions(y_test,y_pred))"
      ],
      "metadata": {
        "colab": {
          "base_uri": "https://localhost:8080/",
          "height": 466
        },
        "id": "8TYjqi5NiXzX",
        "outputId": "bf3d2f4b-d30a-4f32-e9e6-4fab39079b8a"
      },
      "execution_count": 18,
      "outputs": [
        {
          "output_type": "stream",
          "name": "stdout",
          "text": [
            "<sklearn.metrics._plot.confusion_matrix.ConfusionMatrixDisplay object at 0x7f0401fd63e0>\n"
          ]
        },
        {
          "output_type": "display_data",
          "data": {
            "text/plain": [
              "<Figure size 640x480 with 2 Axes>"
            ],
            "image/png": "[encoded data removed]"
          },
          "metadata": {}
        }
      ]
    },
    {
      "cell_type": "code",
      "source": [
        "y_train.value_counts()"
      ],
      "metadata": {
        "colab": {
          "base_uri": "https://localhost:8080/"
        },
        "id": "K1RUz7v8-Adv",
        "outputId": "00f80171-c6d3-49db-a4eb-7d5d520f0524"
      },
      "execution_count": 19,
      "outputs": [
        {
          "output_type": "execute_result",
          "data": {
            "text/plain": [
              "0    17285\n",
              "1      308\n",
              "Name: TARGET, dtype: int64"
            ]
          },
          "metadata": {},
          "execution_count": 19
        }
      ]
    },
    {
      "cell_type": "code",
      "source": [
        "#UNDER SAMPLING\n",
        "from imblearn.under_sampling import RandomUnderSampler\n",
        "ran=RandomUnderSampler()\n",
        "X_train_ran,y_train_ran=ran.fit_resample(X_train,y_train)"
      ],
      "metadata": {
        "id": "ay6-pcxB8vmd"
      },
      "execution_count": 20,
      "outputs": []
    },
    {
      "cell_type": "code",
      "source": [
        "y_train_ran.value_counts()"
      ],
      "metadata": {
        "colab": {
          "base_uri": "https://localhost:8080/"
        },
        "id": "I_o32qoq82al",
        "outputId": "21e1449c-749a-433f-b6ff-806ea60fa84b"
      },
      "execution_count": 21,
      "outputs": [
        {
          "output_type": "execute_result",
          "data": {
            "text/plain": [
              "0    308\n",
              "1    308\n",
              "Name: TARGET, dtype: int64"
            ]
          },
          "metadata": {},
          "execution_count": 21
        }
      ]
    },
    {
      "cell_type": "markdown",
      "source": [
        "**Predictions after UNDERsampling using RandomunderSampler**"
      ],
      "metadata": {
        "id": "3VxIDAGchDOw"
      }
    },
    {
      "cell_type": "code",
      "source": [
        "knn=KNeighborsClassifier(n_neighbors=7)\n",
        "nb=GaussianNB()\n",
        "sv=SVC(degree=5)\n",
        "clf=DecisionTreeClassifier()\n",
        "\n",
        "models=[knn,nb,sv,clf]\n",
        "for model in models:\n",
        "    print('*'*20,model,'*'*20)\n",
        "    model.fit(X_train_ran,y_train_ran)\n",
        "    y_pred=model.predict(X_test)\n",
        "    print(classification_report(y_test,y_pred))\n",
        "    print('_'*20)"
      ],
      "metadata": {
        "id": "3V1P7WMe-g_N",
        "outputId": "d2c7e740-82be-495e-d0db-6d557aaaafd5",
        "colab": {
          "base_uri": "https://localhost:8080/"
        }
      },
      "execution_count": 22,
      "outputs": [
        {
          "output_type": "stream",
          "name": "stdout",
          "text": [
            "******************** KNeighborsClassifier(n_neighbors=7) ********************\n",
            "              precision    recall  f1-score   support\n",
            "\n",
            "           0       0.99      0.56      0.71      7427\n",
            "           1       0.02      0.58      0.04       114\n",
            "\n",
            "    accuracy                           0.56      7541\n",
            "   macro avg       0.50      0.57      0.38      7541\n",
            "weighted avg       0.97      0.56      0.70      7541\n",
            "\n",
            "____________________\n",
            "******************** GaussianNB() ********************\n",
            "              precision    recall  f1-score   support\n",
            "\n",
            "           0       0.99      0.60      0.75      7427\n",
            "           1       0.02      0.64      0.05       114\n",
            "\n",
            "    accuracy                           0.60      7541\n",
            "   macro avg       0.51      0.62      0.40      7541\n",
            "weighted avg       0.98      0.60      0.74      7541\n",
            "\n",
            "____________________\n",
            "******************** SVC(degree=5) ********************\n",
            "              precision    recall  f1-score   support\n",
            "\n",
            "           0       0.98      0.31      0.47      7427\n",
            "           1       0.01      0.67      0.03       114\n",
            "\n",
            "    accuracy                           0.31      7541\n",
            "   macro avg       0.50      0.49      0.25      7541\n",
            "weighted avg       0.97      0.31      0.46      7541\n",
            "\n",
            "____________________\n",
            "******************** DecisionTreeClassifier() ********************\n",
            "              precision    recall  f1-score   support\n",
            "\n",
            "           0       0.99      0.56      0.71      7427\n",
            "           1       0.02      0.58      0.04       114\n",
            "\n",
            "    accuracy                           0.56      7541\n",
            "   macro avg       0.50      0.57      0.38      7541\n",
            "weighted avg       0.97      0.56      0.70      7541\n",
            "\n",
            "____________________\n"
          ]
        }
      ]
    },
    {
      "cell_type": "code",
      "source": [
        "print(ConfusionMatrixDisplay.from_predictions(y_test,y_pred))\n"
      ],
      "metadata": {
        "colab": {
          "base_uri": "https://localhost:8080/",
          "height": 466
        },
        "id": "7pBkQuMsiea5",
        "outputId": "8b9b0085-6ae9-4520-c8bf-eb2ff84096f4"
      },
      "execution_count": 23,
      "outputs": [
        {
          "output_type": "stream",
          "name": "stdout",
          "text": [
            "<sklearn.metrics._plot.confusion_matrix.ConfusionMatrixDisplay object at 0x7f0401fd6590>\n"
          ]
        },
        {
          "output_type": "display_data",
          "data": {
            "text/plain": [
              "<Figure size 640x480 with 2 Axes>"
            ],
            "image/png": "[encoded data removed]"
          },
          "metadata": {}
        }
      ]
    }
  ]
}